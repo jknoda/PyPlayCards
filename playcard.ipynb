{
 "cells": [
  {
   "cell_type": "markdown",
   "id": "e9b6f59d",
   "metadata": {},
   "source": [
    "# 0.0 Imports"
   ]
  },
  {
   "cell_type": "code",
   "execution_count": 253,
   "id": "44b4291b",
   "metadata": {},
   "outputs": [],
   "source": [
    "import pandas as pd\n",
    "import numpy as np\n",
    "import pickle\n",
    "import json, requests\n",
    "\n",
    "from sklearn.model_selection import train_test_split\n",
    "from sklearn.preprocessing import LabelEncoder\n",
    "from sklearn.metrics import confusion_matrix, accuracy_score\n",
    "from sklearn.tree import DecisionTreeClassifier\n",
    "from sklearn.tree import export_graphviz\n",
    "\n",
    "#from keras.models import Sequential\n",
    "#from keras.layers import Dense\n",
    "#from sklearn.preprocessing import LabelEncoder, OneHotEncoder\n",
    "#from sklearn.naive_bayes import GaussianNB\n",
    "#from sklearn.ensemble import RandomForestClassifier\n",
    "#from sklearn.preprocessing import StandardScaler"
   ]
  },
  {
   "cell_type": "markdown",
   "id": "86362465",
   "metadata": {},
   "source": [
    "#0.1 Loading Data"
   ]
  },
  {
   "cell_type": "code",
   "execution_count": 254,
   "id": "55a2dae6",
   "metadata": {},
   "outputs": [
    {
     "data": {
      "text/plain": [
       "(32, 15)"
      ]
     },
     "execution_count": 254,
     "metadata": {},
     "output_type": "execute_result"
    }
   ],
   "source": [
    "dados = {\"ano\": 2021}\n",
    "response = requests.post(\"https://playcardservice.herokuapp.com/oapi/playctrlstat/findallversus\", data=dados)\n",
    "#response.text\n",
    "jogos = pd.read_json(response.text)\n",
    "jogos.shape\n",
    "#jogos.head"
   ]
  },
  {
   "cell_type": "markdown",
   "id": "de4eea16",
   "metadata": {},
   "source": [
    "1.0 Data Preparation"
   ]
  },
  {
   "cell_type": "code",
   "execution_count": 255,
   "id": "9e194230",
   "metadata": {},
   "outputs": [],
   "source": [
    "previsores = jogos.iloc[:,0:14].values\n",
    "classe = jogos.iloc[:,14].values"
   ]
  },
  {
   "cell_type": "code",
   "execution_count": 192,
   "id": "ca2a173c",
   "metadata": {},
   "outputs": [],
   "source": [
    "\n",
    "#DEEP LEARNING - Laber encoder com a classe\n",
    "# labelencoder_Y = LabelEncoder()\n",
    "# y = labelencoder_Y.fit_transform(classe)\n",
    "#separação em treino e teste\n",
    "# X_train, X_test, y_train, y_test = train_test_split(previsores, y, test_size = 0.4, random_state = 0)\n",
    "# print(len(X_train),len(X_test),len(y_train),len(y_test))\n",
    "#Feature Scalling, Padronização z-score\n",
    "# sc = StandardScaler()\n",
    "# X_train = sc.fit_transform(X_train)\n",
    "# X_test = sc.transform(X_test)\n",
    "# X_test\n",
    "# classifier = Sequential()\n",
    "# classifier.add(Dense(units = 6, kernel_initializer = 'uniform', activation = 'relu', input_dim = 14))\n",
    "# classifier.add(Dense(units = 6, kernel_initializer = 'uniform', activation = 'relu'))\n",
    "# classifier.add(Dense(units = 1, kernel_initializer = 'uniform', activation = 'sigmoid'))\n",
    "# classifier.compile(optimizer = 'adam', loss = 'binary_crossentropy', metrics = ['accuracy'])\n",
    "# classifier.fit(X_train, y_train, batch_size = 10, epochs = 200)\n",
    "# y_pred = classifier.predict(X_test)\n",
    "# y_pred = (y_pred > 0.5)\n",
    "# y_pred\n",
    "# cm = confusion_matrix(y_test, y_pred)\n",
    "# taxa_acerto = accuracy_score(y_test, y_pred)\n",
    "# taxa_acerto\n",
    "# sc = StandardScaler()\n",
    "# X_novo = sc.fit_transform(novo_credito)\n",
    "# X_novo = sc.transform(X_novo)\n",
    "# X_novo"
   ]
  },
  {
   "cell_type": "code",
   "execution_count": 256,
   "id": "a9194906",
   "metadata": {},
   "outputs": [],
   "source": [
    "# Divisão da base de dados entre treinamento e teste. Usamos 40% para testar e 60% para treinar. Random_state = 0 para sempre obter a mesma divisão da base quando o código for executado\n",
    "X_treinamento, X_teste, y_treinamento, y_teste = train_test_split(previsores,\n",
    "                                                                  classe,\n",
    "                                                                  test_size = 0.1)"
   ]
  },
  {
   "cell_type": "code",
   "execution_count": 257,
   "id": "1188d8a2",
   "metadata": {},
   "outputs": [
    {
     "data": {
      "text/plain": [
       "DecisionTreeClassifier()"
      ]
     },
     "execution_count": 257,
     "metadata": {},
     "output_type": "execute_result"
    }
   ],
   "source": [
    "# Criação e treinamento do modelo\n",
    "modelo = DecisionTreeClassifier()\n",
    "#modelo = GaussianNB()\n",
    "#modelo = RandomForestClassifier(n_estimators = 100)\n",
    "modelo.fit(X_treinamento, y_treinamento)"
   ]
  },
  {
   "cell_type": "markdown",
   "id": "757698b1",
   "metadata": {},
   "source": [
    "2.0. ML Modelling"
   ]
  },
  {
   "cell_type": "code",
   "execution_count": 258,
   "id": "b5c19ba7",
   "metadata": {},
   "outputs": [
    {
     "data": {
      "text/plain": [
       "array(['A', 'B', 'B', 'A'], dtype=object)"
      ]
     },
     "execution_count": 258,
     "metadata": {},
     "output_type": "execute_result"
    }
   ],
   "source": [
    "# Obtenção das previsões\n",
    "previsoes = modelo.predict(X_teste)\n",
    "previsoes"
   ]
  },
  {
   "cell_type": "code",
   "execution_count": 259,
   "id": "c7e46e4e",
   "metadata": {},
   "outputs": [
    {
     "data": {
      "text/plain": [
       "array([[2, 0],\n",
       "       [0, 2]], dtype=int64)"
      ]
     },
     "execution_count": 259,
     "metadata": {},
     "output_type": "execute_result"
    }
   ],
   "source": [
    "#matriz de confusão\n",
    "confusao = confusion_matrix(y_teste, previsoes)\n",
    "confusao"
   ]
  },
  {
   "cell_type": "code",
   "execution_count": 260,
   "id": "241e2bce",
   "metadata": {},
   "outputs": [
    {
     "data": {
      "text/plain": [
       "1.0"
      ]
     },
     "execution_count": 260,
     "metadata": {},
     "output_type": "execute_result"
    }
   ],
   "source": [
    "#taxa acerto\n",
    "taxa_acerto = accuracy_score(y_teste, previsoes)\n",
    "taxa_acerto"
   ]
  },
  {
   "cell_type": "code",
   "execution_count": 265,
   "id": "4d4ba848",
   "metadata": {},
   "outputs": [],
   "source": [
    "pickle.dump(modelo, open('/Users/jknod/jknoda/playcards/playcardsapi.pkl', 'wb'))"
   ]
  },
  {
   "cell_type": "code",
   "execution_count": 266,
   "id": "4cd3e02a",
   "metadata": {},
   "outputs": [
    {
     "name": "stdout",
     "output_type": "stream",
     "text": [
      " O volume na unidade C ‚ Windows-SSD\n",
      " O N£mero de S‚rie do Volume ‚ 3CB0-A64D\n",
      "\n",
      " Pasta de C:\\Users\\jknod\\jknoda\\playcards\n",
      "\n",
      "27/09/2021  17:54    <DIR>          .\n",
      "27/09/2021  17:54    <DIR>          ..\n",
      "18/09/2021  14:45                11 .gitignore\n",
      "18/09/2021  12:56    <DIR>          .ipynb_checkpoints\n",
      "27/09/2021  17:54             9.233 playcard.ipynb\n",
      "27/09/2021  10:04             1.261 playcardapi.py\n",
      "27/09/2021  17:55             2.027 playcardsapi.pkl\n",
      "18/09/2021  15:18                28 Procfile\n",
      "24/09/2021  11:37               102 requirements.txt\n",
      "18/09/2021  14:53                12 runtim.txt\n",
      "               7 arquivo(s)         12.674 bytes\n",
      "               3 pasta(s)   276.079.857.664 bytes dispon¡veis\n"
     ]
    }
   ],
   "source": [
    "!dir "
   ]
  },
  {
   "cell_type": "code",
   "execution_count": 263,
   "id": "edd28ad7",
   "metadata": {},
   "outputs": [
    {
     "data": {
      "text/plain": [
       "<bound method NDFrame.head of         asa  ala     csa       cla       rsa       rla   jogadasa       asb  \\\n",
       "0  2.547697    3  7.5328  13.40998  3.115005  3.565091  335.54605  2.575633   \n",
       "\n",
       "       alb     csb       clb    rsb       rlb  jogadasb  \n",
       "0  3.11012  6.7659  12.97683  3.075  3.628475   296.137  >"
      ]
     },
     "execution_count": 263,
     "metadata": {},
     "output_type": "execute_result"
    }
   ],
   "source": [
    "#DADOS PARA TESTAR MODELO\n",
    "dadosVer = {\"dupla01a\":50, \"dupla01b\":51, \"dupla02a\":55, \"dupla02b\":52}\n",
    "#dadosVer = {\"dupla01a\":55, \"dupla01b\":52, \"dupla02a\":51, \"dupla02b\":50}\n",
    "responseVer = requests.post(\"https://playcardservice.herokuapp.com/oapi/playctrlstat/findindversus\", data=dadosVer)\n",
    "#response.text\n",
    "verificar = pd.read_json(responseVer.text)\n",
    "verificar.head"
   ]
  },
  {
   "cell_type": "code",
   "execution_count": 264,
   "id": "e45196e0",
   "metadata": {},
   "outputs": [
    {
     "data": {
      "text/plain": [
       "array(['B'], dtype=object)"
      ]
     },
     "execution_count": 264,
     "metadata": {},
     "output_type": "execute_result"
    }
   ],
   "source": [
    "#USANDO MODELO\n",
    "resultado = modelo.predict(verificar)\n",
    "resultado"
   ]
  }
 ],
 "metadata": {
  "kernelspec": {
   "display_name": "Python 3",
   "language": "python",
   "name": "python3"
  },
  "language_info": {
   "codemirror_mode": {
    "name": "ipython",
    "version": 3
   },
   "file_extension": ".py",
   "mimetype": "text/x-python",
   "name": "python",
   "nbconvert_exporter": "python",
   "pygments_lexer": "ipython3",
   "version": "3.8.8"
  }
 },
 "nbformat": 4,
 "nbformat_minor": 5
}
