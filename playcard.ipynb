{
 "cells": [
  {
   "cell_type": "markdown",
   "id": "e9b6f59d",
   "metadata": {},
   "source": [
    "# 0.0 Imports"
   ]
  },
  {
   "cell_type": "code",
   "execution_count": 1,
   "id": "44b4291b",
   "metadata": {},
   "outputs": [],
   "source": [
    "import pandas as pd\n",
    "import numpy as np\n",
    "import pickle\n",
    "import json, requests\n",
    "\n",
    "from sklearn.model_selection import train_test_split\n",
    "from sklearn.preprocessing import LabelEncoder\n",
    "from sklearn.metrics import confusion_matrix, accuracy_score\n",
    "from sklearn.tree import DecisionTreeClassifier\n",
    "from sklearn.tree import export_graphviz\n",
    "\n",
    "#from keras.models import Sequential\n",
    "#from keras.layers import Dense\n",
    "#from sklearn.preprocessing import LabelEncoder, OneHotEncoder\n",
    "#from sklearn.naive_bayes import GaussianNB\n",
    "#from sklearn.ensemble import RandomForestClassifier\n",
    "#from sklearn.preprocessing import StandardScaler"
   ]
  },
  {
   "cell_type": "markdown",
   "id": "86362465",
   "metadata": {},
   "source": [
    "#0.1 Loading Data"
   ]
  },
  {
   "cell_type": "code",
   "execution_count": 2,
   "id": "55a2dae6",
   "metadata": {},
   "outputs": [
    {
     "data": {
      "text/plain": [
       "<bound method NDFrame.head of           ala  asa       cla       csa       rla       rsa  jogadasa  \\\n",
       "0    0.571429  0.5  0.444445  0.555550  0.571429  0.500000  0.554824   \n",
       "1    0.500000  0.5  0.450000  0.388889  0.444444  0.500000  0.417763   \n",
       "2    0.500000  0.5  0.500000  0.461538  0.500000  0.500000  0.500000   \n",
       "3    0.500000  0.5  0.550000  0.466670  0.500000  0.428571  0.335526   \n",
       "4    0.500000  0.5  0.529412  0.357143  0.444444  0.500000  0.417763   \n",
       "..        ...  ...       ...       ...       ...       ...       ...   \n",
       "237  0.500000  0.5  0.480000  0.538462  0.500000  0.500000  0.491422   \n",
       "238  0.500000  0.5  0.571429  0.533333  0.500000  0.500000  0.531538   \n",
       "239  0.444444  0.5  0.450000  0.500000  0.500000  0.500000  0.480377   \n",
       "240  0.500000  0.5  0.478261  0.416667  0.500000  0.500000  0.459367   \n",
       "241  0.500000  0.5  0.523810  0.466667  0.500000  0.500000  0.546702   \n",
       "\n",
       "          alb  asb       clb       csb       rlb       rsb  jogadasb resultado  \n",
       "0    0.428571  0.5  0.555555  0.444450  0.428571  0.500000  0.445176         A  \n",
       "1    0.500000  0.5  0.550000  0.611111  0.555556  0.500000  0.582237         B  \n",
       "2    0.500000  0.5  0.500000  0.538462  0.500000  0.500000  0.500000         A  \n",
       "3    0.500000  0.5  0.450000  0.533330  0.500000  0.571429  0.664474         B  \n",
       "4    0.500000  0.5  0.470588  0.642857  0.555556  0.500000  0.582237         B  \n",
       "..        ...  ...       ...       ...       ...       ...       ...       ...  \n",
       "237  0.500000  0.5  0.520000  0.461538  0.500000  0.500000  0.508578         B  \n",
       "238  0.500000  0.5  0.428571  0.466667  0.500000  0.500000  0.468462         A  \n",
       "239  0.555556  0.5  0.550000  0.500000  0.500000  0.500000  0.519623         B  \n",
       "240  0.500000  0.5  0.521739  0.583333  0.500000  0.500000  0.540633         B  \n",
       "241  0.500000  0.5  0.476190  0.533333  0.500000  0.500000  0.453298         A  \n",
       "\n",
       "[242 rows x 15 columns]>"
      ]
     },
     "execution_count": 2,
     "metadata": {},
     "output_type": "execute_result"
    }
   ],
   "source": [
    "dados = {\"ano\": 2021}\n",
    "response = requests.post(\"https://playcardservice.herokuapp.com/oapi/playctrlstat/findallversus\", data=dados)\n",
    "#response.text\n",
    "jogos = pd.read_json(response.text)\n",
    "jogos.shape\n",
    "jogos.head"
   ]
  },
  {
   "cell_type": "markdown",
   "id": "de4eea16",
   "metadata": {},
   "source": [
    "1.0 Data Preparation"
   ]
  },
  {
   "cell_type": "code",
   "execution_count": 3,
   "id": "9e194230",
   "metadata": {},
   "outputs": [
    {
     "data": {
      "text/plain": [
       "array([[0.44444467, 0.55555   , 0.55482434, 0.55555533, 0.44445   ,\n",
       "        0.44517566],\n",
       "       [0.45      , 0.38888889, 0.41776316, 0.55      , 0.61111111,\n",
       "        0.58223684],\n",
       "       [0.5       , 0.46153846, 0.5       , 0.5       , 0.53846154,\n",
       "        0.5       ],\n",
       "       ...,\n",
       "       [0.45      , 0.5       , 0.48037677, 0.55      , 0.5       ,\n",
       "        0.51962323],\n",
       "       [0.47826087, 0.41666667, 0.45936698, 0.52173913, 0.58333333,\n",
       "        0.54063302],\n",
       "       [0.52380952, 0.46666667, 0.54670225, 0.47619048, 0.53333333,\n",
       "        0.45329775]])"
      ]
     },
     "execution_count": 3,
     "metadata": {},
     "output_type": "execute_result"
    }
   ],
   "source": [
    "previsores = jogos.iloc[:,[2,3,6,9,10,13]].values\n",
    "classe = jogos.iloc[:,14].values\n",
    "previsores"
   ]
  },
  {
   "cell_type": "code",
   "execution_count": 192,
   "id": "ca2a173c",
   "metadata": {},
   "outputs": [],
   "source": [
    "\n",
    "#DEEP LEARNING - Laber encoder com a classe\n",
    "# labelencoder_Y = LabelEncoder()\n",
    "# y = labelencoder_Y.fit_transform(classe)\n",
    "#separação em treino e teste\n",
    "# X_train, X_test, y_train, y_test = train_test_split(previsores, y, test_size = 0.4, random_state = 0)\n",
    "# print(len(X_train),len(X_test),len(y_train),len(y_test))\n",
    "#Feature Scalling, Padronização z-score\n",
    "# sc = StandardScaler()\n",
    "# X_train = sc.fit_transform(X_train)\n",
    "# X_test = sc.transform(X_test)\n",
    "# X_test\n",
    "# classifier = Sequential()\n",
    "# classifier.add(Dense(units = 6, kernel_initializer = 'uniform', activation = 'relu', input_dim = 14))\n",
    "# classifier.add(Dense(units = 6, kernel_initializer = 'uniform', activation = 'relu'))\n",
    "# classifier.add(Dense(units = 1, kernel_initializer = 'uniform', activation = 'sigmoid'))\n",
    "# classifier.compile(optimizer = 'adam', loss = 'binary_crossentropy', metrics = ['accuracy'])\n",
    "# classifier.fit(X_train, y_train, batch_size = 10, epochs = 200)\n",
    "# y_pred = classifier.predict(X_test)\n",
    "# y_pred = (y_pred > 0.5)\n",
    "# y_pred\n",
    "# cm = confusion_matrix(y_test, y_pred)\n",
    "# taxa_acerto = accuracy_score(y_test, y_pred)\n",
    "# taxa_acerto\n",
    "# sc = StandardScaler()\n",
    "# X_novo = sc.fit_transform(novo_credito)\n",
    "# X_novo = sc.transform(X_novo)\n",
    "# X_novo"
   ]
  },
  {
   "cell_type": "code",
   "execution_count": 4,
   "id": "a9194906",
   "metadata": {},
   "outputs": [],
   "source": [
    "# Divisão da base de dados entre treinamento e teste. Usamos 40% para testar e 60% para treinar. Random_state = 0 para sempre obter a mesma divisão da base quando o código for executado\n",
    "X_treinamento, X_teste, y_treinamento, y_teste = train_test_split(previsores,\n",
    "                                                                  classe,\n",
    "                                                                  test_size = 0.1)"
   ]
  },
  {
   "cell_type": "code",
   "execution_count": 5,
   "id": "1188d8a2",
   "metadata": {},
   "outputs": [
    {
     "data": {
      "text/plain": [
       "DecisionTreeClassifier()"
      ]
     },
     "execution_count": 5,
     "metadata": {},
     "output_type": "execute_result"
    }
   ],
   "source": [
    "# Criação e treinamento do modelo\n",
    "modelo = DecisionTreeClassifier()\n",
    "#modelo = GaussianNB()\n",
    "#modelo = RandomForestClassifier(n_estimators = 100)\n",
    "modelo.fit(X_treinamento, y_treinamento)"
   ]
  },
  {
   "cell_type": "markdown",
   "id": "757698b1",
   "metadata": {},
   "source": [
    "2.0. ML Modelling"
   ]
  },
  {
   "cell_type": "code",
   "execution_count": 6,
   "id": "b5c19ba7",
   "metadata": {},
   "outputs": [
    {
     "data": {
      "text/plain": [
       "array(['B', 'A', 'A', 'A', 'B', 'B', 'A', 'B', 'B', 'A', 'A', 'A', 'A',\n",
       "       'A', 'B', 'B', 'A', 'A', 'A', 'B', 'B', 'B', 'B', 'B', 'B'],\n",
       "      dtype=object)"
      ]
     },
     "execution_count": 6,
     "metadata": {},
     "output_type": "execute_result"
    }
   ],
   "source": [
    "# Obtenção das previsões\n",
    "previsoes = modelo.predict(X_teste)\n",
    "previsoes"
   ]
  },
  {
   "cell_type": "code",
   "execution_count": 7,
   "id": "c7e46e4e",
   "metadata": {},
   "outputs": [
    {
     "data": {
      "text/plain": [
       "array([[11,  2],\n",
       "       [ 1, 11]], dtype=int64)"
      ]
     },
     "execution_count": 7,
     "metadata": {},
     "output_type": "execute_result"
    }
   ],
   "source": [
    "#matriz de confusão\n",
    "confusao = confusion_matrix(y_teste, previsoes)\n",
    "confusao"
   ]
  },
  {
   "cell_type": "code",
   "execution_count": 8,
   "id": "241e2bce",
   "metadata": {},
   "outputs": [
    {
     "data": {
      "text/plain": [
       "0.88"
      ]
     },
     "execution_count": 8,
     "metadata": {},
     "output_type": "execute_result"
    }
   ],
   "source": [
    "#taxa acerto\n",
    "taxa_acerto = accuracy_score(y_teste, previsoes)\n",
    "taxa_acerto"
   ]
  },
  {
   "cell_type": "code",
   "execution_count": 9,
   "id": "4d4ba848",
   "metadata": {},
   "outputs": [],
   "source": [
    "pickle.dump(modelo, open('/Users/jknod/jknoda/playcards/playcardsapi.pkl', 'wb'))"
   ]
  },
  {
   "cell_type": "code",
   "execution_count": 10,
   "id": "4cd3e02a",
   "metadata": {},
   "outputs": [
    {
     "name": "stdout",
     "output_type": "stream",
     "text": [
      " O volume na unidade C ‚ Windows-SSD\n",
      " O N£mero de S‚rie do Volume ‚ 3CB0-A64D\n",
      "\n",
      " Pasta de C:\\Users\\jknod\\jknoda\\playcards\n",
      "\n",
      "08/12/2021  09:55    <DIR>          .\n",
      "18/09/2021  12:54    <DIR>          ..\n",
      "18/09/2021  14:45                11 .gitignore\n",
      "27/09/2021  18:02    <DIR>          .ipynb_checkpoints\n",
      "10/10/2021  08:31            22.368 playcard.ipynb\n",
      "27/09/2021  18:14             1.882 playcardapi.py\n",
      "08/12/2021  09:55             5.486 playcardsapi.pkl\n",
      "03/10/2021  11:31             2.318 playcardspredictapi.pkl\n",
      "03/10/2021  11:33             1.739 playcardsversusapi.pkl\n",
      "03/10/2021  11:33             7.546 playcard_predict.ipynb\n",
      "10/10/2021  12:17            14.631 playcard_versus.ipynb\n",
      "18/09/2021  15:18                28 Procfile\n",
      "24/09/2021  11:37               102 requirements.txt\n",
      "18/09/2021  14:53                12 runtim.txt\n",
      "              11 arquivo(s)         56.123 bytes\n",
      "               3 pasta(s)   206.672.728.064 bytes dispon¡veis\n"
     ]
    }
   ],
   "source": [
    "!dir "
   ]
  },
  {
   "cell_type": "code",
   "execution_count": 11,
   "id": "edd28ad7",
   "metadata": {},
   "outputs": [
    {
     "data": {
      "text/plain": [
       "<bound method NDFrame.head of         ala       asa       cla       csa       rla       rsa  jogadasa  \\\n",
       "0  0.499334  0.499275  0.498946  0.501238  0.501736  0.500121  0.507631   \n",
       "\n",
       "        alb       asb       clb       csb       rlb       rsb  jogadasb  \n",
       "0  0.500666  0.500725  0.501054  0.498762  0.498264  0.499879  0.492369  >"
      ]
     },
     "execution_count": 11,
     "metadata": {},
     "output_type": "execute_result"
    }
   ],
   "source": [
    "#DADOS PARA TESTAR MODELO\n",
    "dadosVer = {\"dupla01a\":50, \"dupla01b\":51, \"dupla02a\":55, \"dupla02b\":52}\n",
    "#dadosVer = {\"dupla01a\":55, \"dupla01b\":52, \"dupla02a\":51, \"dupla02b\":50}\n",
    "responseVer = requests.post(\"https://playcardservice.herokuapp.com/oapi/playctrlstat/findindversus\", data=dadosVer)\n",
    "#response.text\n",
    "verificar = pd.read_json(responseVer.text)\n",
    "verificar.head"
   ]
  },
  {
   "cell_type": "code",
   "execution_count": 12,
   "id": "e45196e0",
   "metadata": {},
   "outputs": [
    {
     "ename": "ValueError",
     "evalue": "X has 14 features, but DecisionTreeClassifier is expecting 6 features as input.",
     "output_type": "error",
     "traceback": [
      "\u001b[1;31m---------------------------------------------------------------------------\u001b[0m",
      "\u001b[1;31mValueError\u001b[0m                                Traceback (most recent call last)",
      "\u001b[1;32m<ipython-input-12-9a561a76aae6>\u001b[0m in \u001b[0;36m<module>\u001b[1;34m\u001b[0m\n\u001b[0;32m      1\u001b[0m \u001b[1;31m#USANDO MODELO\u001b[0m\u001b[1;33m\u001b[0m\u001b[1;33m\u001b[0m\u001b[1;33m\u001b[0m\u001b[0m\n\u001b[1;32m----> 2\u001b[1;33m \u001b[0mresultado\u001b[0m \u001b[1;33m=\u001b[0m \u001b[0mmodelo\u001b[0m\u001b[1;33m.\u001b[0m\u001b[0mpredict\u001b[0m\u001b[1;33m(\u001b[0m\u001b[0mverificar\u001b[0m\u001b[1;33m)\u001b[0m\u001b[1;33m\u001b[0m\u001b[1;33m\u001b[0m\u001b[0m\n\u001b[0m\u001b[0;32m      3\u001b[0m \u001b[0mresultado\u001b[0m\u001b[1;33m\u001b[0m\u001b[1;33m\u001b[0m\u001b[0m\n",
      "\u001b[1;32mC:\\ProgramData\\Anaconda3\\lib\\site-packages\\sklearn\\tree\\_classes.py\u001b[0m in \u001b[0;36mpredict\u001b[1;34m(self, X, check_input)\u001b[0m\n\u001b[0;32m    435\u001b[0m         \"\"\"\n\u001b[0;32m    436\u001b[0m         \u001b[0mcheck_is_fitted\u001b[0m\u001b[1;33m(\u001b[0m\u001b[0mself\u001b[0m\u001b[1;33m)\u001b[0m\u001b[1;33m\u001b[0m\u001b[1;33m\u001b[0m\u001b[0m\n\u001b[1;32m--> 437\u001b[1;33m         \u001b[0mX\u001b[0m \u001b[1;33m=\u001b[0m \u001b[0mself\u001b[0m\u001b[1;33m.\u001b[0m\u001b[0m_validate_X_predict\u001b[0m\u001b[1;33m(\u001b[0m\u001b[0mX\u001b[0m\u001b[1;33m,\u001b[0m \u001b[0mcheck_input\u001b[0m\u001b[1;33m)\u001b[0m\u001b[1;33m\u001b[0m\u001b[1;33m\u001b[0m\u001b[0m\n\u001b[0m\u001b[0;32m    438\u001b[0m         \u001b[0mproba\u001b[0m \u001b[1;33m=\u001b[0m \u001b[0mself\u001b[0m\u001b[1;33m.\u001b[0m\u001b[0mtree_\u001b[0m\u001b[1;33m.\u001b[0m\u001b[0mpredict\u001b[0m\u001b[1;33m(\u001b[0m\u001b[0mX\u001b[0m\u001b[1;33m)\u001b[0m\u001b[1;33m\u001b[0m\u001b[1;33m\u001b[0m\u001b[0m\n\u001b[0;32m    439\u001b[0m         \u001b[0mn_samples\u001b[0m \u001b[1;33m=\u001b[0m \u001b[0mX\u001b[0m\u001b[1;33m.\u001b[0m\u001b[0mshape\u001b[0m\u001b[1;33m[\u001b[0m\u001b[1;36m0\u001b[0m\u001b[1;33m]\u001b[0m\u001b[1;33m\u001b[0m\u001b[1;33m\u001b[0m\u001b[0m\n",
      "\u001b[1;32mC:\\ProgramData\\Anaconda3\\lib\\site-packages\\sklearn\\tree\\_classes.py\u001b[0m in \u001b[0;36m_validate_X_predict\u001b[1;34m(self, X, check_input)\u001b[0m\n\u001b[0;32m    400\u001b[0m         \u001b[1;34m\"\"\"Validate the training data on predict (probabilities).\"\"\"\u001b[0m\u001b[1;33m\u001b[0m\u001b[1;33m\u001b[0m\u001b[0m\n\u001b[0;32m    401\u001b[0m         \u001b[1;32mif\u001b[0m \u001b[0mcheck_input\u001b[0m\u001b[1;33m:\u001b[0m\u001b[1;33m\u001b[0m\u001b[1;33m\u001b[0m\u001b[0m\n\u001b[1;32m--> 402\u001b[1;33m             X = self._validate_data(X, dtype=DTYPE, accept_sparse=\"csr\",\n\u001b[0m\u001b[0;32m    403\u001b[0m                                     reset=False)\n\u001b[0;32m    404\u001b[0m             if issparse(X) and (X.indices.dtype != np.intc or\n",
      "\u001b[1;32mC:\\ProgramData\\Anaconda3\\lib\\site-packages\\sklearn\\base.py\u001b[0m in \u001b[0;36m_validate_data\u001b[1;34m(self, X, y, reset, validate_separately, **check_params)\u001b[0m\n\u001b[0;32m    435\u001b[0m \u001b[1;33m\u001b[0m\u001b[0m\n\u001b[0;32m    436\u001b[0m         \u001b[1;32mif\u001b[0m \u001b[0mcheck_params\u001b[0m\u001b[1;33m.\u001b[0m\u001b[0mget\u001b[0m\u001b[1;33m(\u001b[0m\u001b[1;34m'ensure_2d'\u001b[0m\u001b[1;33m,\u001b[0m \u001b[1;32mTrue\u001b[0m\u001b[1;33m)\u001b[0m\u001b[1;33m:\u001b[0m\u001b[1;33m\u001b[0m\u001b[1;33m\u001b[0m\u001b[0m\n\u001b[1;32m--> 437\u001b[1;33m             \u001b[0mself\u001b[0m\u001b[1;33m.\u001b[0m\u001b[0m_check_n_features\u001b[0m\u001b[1;33m(\u001b[0m\u001b[0mX\u001b[0m\u001b[1;33m,\u001b[0m \u001b[0mreset\u001b[0m\u001b[1;33m=\u001b[0m\u001b[0mreset\u001b[0m\u001b[1;33m)\u001b[0m\u001b[1;33m\u001b[0m\u001b[1;33m\u001b[0m\u001b[0m\n\u001b[0m\u001b[0;32m    438\u001b[0m \u001b[1;33m\u001b[0m\u001b[0m\n\u001b[0;32m    439\u001b[0m         \u001b[1;32mreturn\u001b[0m \u001b[0mout\u001b[0m\u001b[1;33m\u001b[0m\u001b[1;33m\u001b[0m\u001b[0m\n",
      "\u001b[1;32mC:\\ProgramData\\Anaconda3\\lib\\site-packages\\sklearn\\base.py\u001b[0m in \u001b[0;36m_check_n_features\u001b[1;34m(self, X, reset)\u001b[0m\n\u001b[0;32m    363\u001b[0m \u001b[1;33m\u001b[0m\u001b[0m\n\u001b[0;32m    364\u001b[0m         \u001b[1;32mif\u001b[0m \u001b[0mn_features\u001b[0m \u001b[1;33m!=\u001b[0m \u001b[0mself\u001b[0m\u001b[1;33m.\u001b[0m\u001b[0mn_features_in_\u001b[0m\u001b[1;33m:\u001b[0m\u001b[1;33m\u001b[0m\u001b[1;33m\u001b[0m\u001b[0m\n\u001b[1;32m--> 365\u001b[1;33m             raise ValueError(\n\u001b[0m\u001b[0;32m    366\u001b[0m                 \u001b[1;34mf\"X has {n_features} features, but {self.__class__.__name__} \"\u001b[0m\u001b[1;33m\u001b[0m\u001b[1;33m\u001b[0m\u001b[0m\n\u001b[0;32m    367\u001b[0m                 f\"is expecting {self.n_features_in_} features as input.\")\n",
      "\u001b[1;31mValueError\u001b[0m: X has 14 features, but DecisionTreeClassifier is expecting 6 features as input."
     ]
    }
   ],
   "source": [
    "#USANDO MODELO\n",
    "resultado = modelo.predict(verificar)\n",
    "resultado"
   ]
  }
 ],
 "metadata": {
  "kernelspec": {
   "display_name": "Python 3",
   "language": "python",
   "name": "python3"
  },
  "language_info": {
   "codemirror_mode": {
    "name": "ipython",
    "version": 3
   },
   "file_extension": ".py",
   "mimetype": "text/x-python",
   "name": "python",
   "nbconvert_exporter": "python",
   "pygments_lexer": "ipython3",
   "version": "3.8.8"
  }
 },
 "nbformat": 4,
 "nbformat_minor": 5
}
