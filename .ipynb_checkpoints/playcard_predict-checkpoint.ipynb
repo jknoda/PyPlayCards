{
 "cells": [
  {
   "cell_type": "markdown",
   "id": "dee6feb1",
   "metadata": {},
   "source": [
    "# 0.0 Imports"
   ]
  },
  {
   "cell_type": "code",
   "execution_count": 253,
   "id": "95f4ae2d",
   "metadata": {},
   "outputs": [],
   "source": [
    "import pandas as pd\n",
    "import numpy as np\n",
    "import pickle\n",
    "import json, requests\n",
    "\n",
    "from sklearn.model_selection import train_test_split\n",
    "from sklearn.preprocessing import LabelEncoder\n",
    "from sklearn.metrics import confusion_matrix, accuracy_score\n",
    "from sklearn.tree import DecisionTreeClassifier\n",
    "from sklearn.tree import export_graphviz"
   ]
  },
  {
   "cell_type": "markdown",
   "id": "51415112",
   "metadata": {},
   "source": [
    "#0.1 Loading Data"
   ]
  },
  {
   "cell_type": "code",
   "execution_count": 254,
   "id": "cfb27754",
   "metadata": {},
   "outputs": [
    {
     "data": {
      "text/plain": [
       "(32, 15)"
      ]
     },
     "execution_count": 254,
     "metadata": {},
     "output_type": "execute_result"
    }
   ],
   "source": [
    "dados = {\"ano\": 2021}\n",
    "response = requests.post(\"https://playcardservice.herokuapp.com/oapi/playctrlstat/findallind\", data=dados)\n",
    "#response.text\n",
    "jogos = pd.read_json(response.text)\n",
    "jogos.shape"
   ]
  },
  {
   "cell_type": "markdown",
   "id": "60a04b0c",
   "metadata": {},
   "source": [
    "1.0 Data Preparation"
   ]
  },
  {
   "cell_type": "code",
   "execution_count": 255,
   "id": "68ea76c5",
   "metadata": {},
   "outputs": [],
   "source": [
    "previsores = jogos.iloc[:,0:8].values\n",
    "classe = jogos.iloc[:,8].values"
   ]
  },
  {
   "cell_type": "code",
   "execution_count": 256,
   "id": "55912305",
   "metadata": {},
   "outputs": [],
   "source": [
    "# Divisão da base de dados entre treinamento e teste. Usamos 40% para testar e 60% para treinar. Random_state = 0 para sempre obter a mesma divisão da base quando o código for executado\n",
    "X_treinamento, X_teste, y_treinamento, y_teste = train_test_split(previsores,\n",
    "                                                                  classe,\n",
    "                                                                  test_size = 0.1)"
   ]
  },
  {
   "cell_type": "code",
   "execution_count": 257,
   "id": "6311efde",
   "metadata": {},
   "outputs": [
    {
     "data": {
      "text/plain": [
       "DecisionTreeClassifier()"
      ]
     },
     "execution_count": 257,
     "metadata": {},
     "output_type": "execute_result"
    }
   ],
   "source": [
    "# Criação e treinamento do modelo\n",
    "arvore = DecisionTreeClassifier()\n",
    "arvore.fit(X_treinamento, y_treinamento)"
   ]
  },
  {
   "cell_type": "markdown",
   "id": "880496b8",
   "metadata": {},
   "source": [
    "2.0. ML Modelling"
   ]
  },
  {
   "cell_type": "code",
   "execution_count": 258,
   "id": "69c46a5e",
   "metadata": {},
   "outputs": [
    {
     "data": {
      "text/plain": [
       "array(['A', 'B', 'B', 'A'], dtype=object)"
      ]
     },
     "execution_count": 258,
     "metadata": {},
     "output_type": "execute_result"
    }
   ],
   "source": [
    "# Obtenção das previsões\n",
    "previsoes = modelo.predict(X_teste)\n",
    "previsoes"
   ]
  },
  {
   "cell_type": "code",
   "execution_count": 259,
   "id": "e38e09eb",
   "metadata": {},
   "outputs": [
    {
     "data": {
      "text/plain": [
       "array([[2, 0],\n",
       "       [0, 2]], dtype=int64)"
      ]
     },
     "execution_count": 259,
     "metadata": {},
     "output_type": "execute_result"
    }
   ],
   "source": [
    "#matriz de confusão\n",
    "confusao = confusion_matrix(y_teste, previsoes)\n",
    "confusao"
   ]
  },
  {
   "cell_type": "code",
   "execution_count": 260,
   "id": "58caf5bb",
   "metadata": {},
   "outputs": [
    {
     "data": {
      "text/plain": [
       "1.0"
      ]
     },
     "execution_count": 260,
     "metadata": {},
     "output_type": "execute_result"
    }
   ],
   "source": [
    "#taxa acerto\n",
    "taxa_acerto = accuracy_score(y_teste, previsoes)\n",
    "taxa_acerto"
   ]
  },
  {
   "cell_type": "code",
   "execution_count": 265,
   "id": "5deb9858",
   "metadata": {},
   "outputs": [],
   "source": [
    "pickle.dump(modelo, open('/Users/jknod/jknoda/playcards/playcardsapi.pkl', 'wb'))"
   ]
  },
  {
   "cell_type": "code",
   "execution_count": 266,
   "id": "8b79dab9",
   "metadata": {},
   "outputs": [
    {
     "name": "stdout",
     "output_type": "stream",
     "text": [
      " O volume na unidade C ‚ Windows-SSD\n",
      " O N£mero de S‚rie do Volume ‚ 3CB0-A64D\n",
      "\n",
      " Pasta de C:\\Users\\jknod\\jknoda\\playcards\n",
      "\n",
      "27/09/2021  17:54    <DIR>          .\n",
      "27/09/2021  17:54    <DIR>          ..\n",
      "18/09/2021  14:45                11 .gitignore\n",
      "18/09/2021  12:56    <DIR>          .ipynb_checkpoints\n",
      "27/09/2021  17:54             9.233 playcard.ipynb\n",
      "27/09/2021  10:04             1.261 playcardapi.py\n",
      "27/09/2021  17:55             2.027 playcardsapi.pkl\n",
      "18/09/2021  15:18                28 Procfile\n",
      "24/09/2021  11:37               102 requirements.txt\n",
      "18/09/2021  14:53                12 runtim.txt\n",
      "               7 arquivo(s)         12.674 bytes\n",
      "               3 pasta(s)   276.079.857.664 bytes dispon¡veis\n"
     ]
    }
   ],
   "source": [
    "!dir "
   ]
  },
  {
   "cell_type": "code",
   "execution_count": 263,
   "id": "b90198d1",
   "metadata": {},
   "outputs": [
    {
     "data": {
      "text/plain": [
       "<bound method NDFrame.head of         asa  ala     csa       cla       rsa       rla   jogadasa       asb  \\\n",
       "0  2.547697    3  7.5328  13.40998  3.115005  3.565091  335.54605  2.575633   \n",
       "\n",
       "       alb     csb       clb    rsb       rlb  jogadasb  \n",
       "0  3.11012  6.7659  12.97683  3.075  3.628475   296.137  >"
      ]
     },
     "execution_count": 263,
     "metadata": {},
     "output_type": "execute_result"
    }
   ],
   "source": [
    "#DADOS PARA TESTAR MODELO\n",
    "dadosVer = {\"dupla01a\":50, \"dupla01b\":51, \"dupla02a\":55, \"dupla02b\":52}\n",
    "#dadosVer = {\"dupla01a\":55, \"dupla01b\":52, \"dupla02a\":51, \"dupla02b\":50}\n",
    "responseVer = requests.post(\"https://playcardservice.herokuapp.com/oapi/playctrlstat/findindversus\", data=dadosVer)\n",
    "#response.text\n",
    "verificar = pd.read_json(responseVer.text)\n",
    "verificar.head"
   ]
  },
  {
   "cell_type": "code",
   "execution_count": 264,
   "id": "ebcf3750",
   "metadata": {},
   "outputs": [
    {
     "data": {
      "text/plain": [
       "array(['B'], dtype=object)"
      ]
     },
     "execution_count": 264,
     "metadata": {},
     "output_type": "execute_result"
    }
   ],
   "source": [
    "#USANDO MODELO\n",
    "resultado = modelo.predict(verificar)\n",
    "resultado"
   ]
  }
 ],
 "metadata": {
  "interpreter": {
   "hash": "57baa5815c940fdaff4d14510622de9616cae602444507ba5d0b6727c008cbd6"
  },
  "kernelspec": {
   "display_name": "Python 3",
   "language": "python",
   "name": "python3"
  },
  "language_info": {
   "codemirror_mode": {
    "name": "ipython",
    "version": 3
   },
   "file_extension": ".py",
   "mimetype": "text/x-python",
   "name": "python",
   "nbconvert_exporter": "python",
   "pygments_lexer": "ipython3",
   "version": "3.8.8"
  }
 },
 "nbformat": 4,
 "nbformat_minor": 5
}
