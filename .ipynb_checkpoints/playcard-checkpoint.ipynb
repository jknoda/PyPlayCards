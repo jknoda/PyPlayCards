{
 "cells": [
  {
   "cell_type": "markdown",
   "id": "e9b6f59d",
   "metadata": {},
   "source": [
    "# 0.0 Imports"
   ]
  },
  {
   "cell_type": "code",
   "execution_count": 3,
   "id": "44b4291b",
   "metadata": {},
   "outputs": [],
   "source": [
    "import pandas as pd\n",
    "import numpy as np\n",
    "import pickle\n",
    "import json, requests\n",
    "\n",
    "from sklearn.model_selection import train_test_split\n",
    "from sklearn.preprocessing import LabelEncoder\n",
    "from sklearn.metrics import confusion_matrix, accuracy_score\n",
    "from sklearn.tree import DecisionTreeClassifier\n",
    "from sklearn.tree import export_graphviz"
   ]
  },
  {
   "cell_type": "markdown",
   "id": "86362465",
   "metadata": {},
   "source": [
    "#0.1 Loading Data"
   ]
  },
  {
   "cell_type": "code",
   "execution_count": 21,
   "id": "55a2dae6",
   "metadata": {},
   "outputs": [],
   "source": [
    "dados = {\"ano\": 2021}\n",
    "response = requests.post(\"http://localhost:3003/oapi/playctrlstat/findallind\", data=dados)\n",
    "#response.text\n",
    "jogos = pd.read_json(response.text)"
   ]
  },
  {
   "cell_type": "markdown",
   "id": "de4eea16",
   "metadata": {},
   "source": [
    "1.0 Data Preparation"
   ]
  },
  {
   "cell_type": "code",
   "execution_count": 23,
   "id": "9e194230",
   "metadata": {},
   "outputs": [],
   "source": [
    "previsores = jogos.iloc[:,0:7].values\n",
    "classe = jogos.iloc[:,7].values"
   ]
  },
  {
   "cell_type": "code",
   "execution_count": 24,
   "id": "a9194906",
   "metadata": {},
   "outputs": [],
   "source": [
    "# Divisão da base de dados entre treinamento e teste. Usamos 30% para testar e 70% para treinar. Random_state = 0 para sempre obter a mesma divisão da base quando o código for executado\n",
    "X_treinamento, X_teste, y_treinamento, y_teste = train_test_split(previsores,\n",
    "                                                                  classe,\n",
    "                                                                  test_size = 0.4)"
   ]
  },
  {
   "cell_type": "code",
   "execution_count": 29,
   "id": "7c92f779",
   "metadata": {},
   "outputs": [
    {
     "data": {
      "text/plain": [
       "DecisionTreeClassifier()"
      ]
     },
     "execution_count": 29,
     "metadata": {},
     "output_type": "execute_result"
    }
   ],
   "source": [
    "# Criação e treinamento do modelo\n",
    "arvore = DecisionTreeClassifier()\n",
    "arvore.fit(X_treinamento, y_treinamento)"
   ]
  },
  {
   "cell_type": "markdown",
   "id": "757698b1",
   "metadata": {},
   "source": [
    "2.0. ML Modelling"
   ]
  },
  {
   "cell_type": "code",
   "execution_count": 30,
   "id": "b5c19ba7",
   "metadata": {},
   "outputs": [
    {
     "data": {
      "text/plain": [
       "array(['V', 'V', 'D', 'D', 'D', 'D', 'D', 'V', 'D', 'V', 'D', 'D', 'V',\n",
       "       'D'], dtype=object)"
      ]
     },
     "execution_count": 30,
     "metadata": {},
     "output_type": "execute_result"
    }
   ],
   "source": [
    "# Obtenção das previsões\n",
    "previsoes = arvore.predict(X_teste)\n",
    "previsoes"
   ]
  },
  {
   "cell_type": "code",
   "execution_count": 31,
   "id": "c7e46e4e",
   "metadata": {},
   "outputs": [
    {
     "data": {
      "text/plain": [
       "array([[6, 0],\n",
       "       [3, 5]], dtype=int64)"
      ]
     },
     "execution_count": 31,
     "metadata": {},
     "output_type": "execute_result"
    }
   ],
   "source": [
    "#matriz de confusão\n",
    "confusao = confusion_matrix(y_teste, previsoes)\n",
    "confusao"
   ]
  },
  {
   "cell_type": "code",
   "execution_count": 32,
   "id": "241e2bce",
   "metadata": {},
   "outputs": [
    {
     "data": {
      "text/plain": [
       "0.7857142857142857"
      ]
     },
     "execution_count": 32,
     "metadata": {},
     "output_type": "execute_result"
    }
   ],
   "source": [
    "#taxa acerto\n",
    "taxa_acerto = accuracy_score(y_teste, previsoes)\n",
    "taxa_acerto"
   ]
  },
  {
   "cell_type": "code",
   "execution_count": 33,
   "id": "4d4ba848",
   "metadata": {},
   "outputs": [],
   "source": [
    "pickle.dump(arvore, open('/Users/jknod/jknoda/playcards/playcardsapi.pkl', 'wb'))"
   ]
  },
  {
   "cell_type": "code",
   "execution_count": 35,
   "id": "4cd3e02a",
   "metadata": {},
   "outputs": [
    {
     "name": "stdout",
     "output_type": "stream",
     "text": [
      " O volume na unidade C ‚ Windows-SSD\n",
      " O N£mero de S‚rie do Volume ‚ 3CB0-A64D\n",
      "\n",
      " Pasta de C:\\Users\\jknod\\jknoda\\playcards\n",
      "\n",
      "23/09/2021  16:16    <DIR>          .\n",
      "23/09/2021  16:16    <DIR>          ..\n",
      "18/09/2021  14:45                11 .gitignore\n",
      "18/09/2021  12:56    <DIR>          .ipynb_checkpoints\n",
      "23/09/2021  16:16             5.572 playcard.ipynb\n",
      "18/09/2021  15:21             1.075 playcardapi.py\n",
      "23/09/2021  16:17             1.595 playcardsapi.pkl\n",
      "18/09/2021  15:18                28 Procfile\n",
      "18/09/2021  15:24                66 requirements.txt\n",
      "18/09/2021  14:53                12 runtim.txt\n",
      "               7 arquivo(s)          8.359 bytes\n",
      "               3 pasta(s)   276.563.304.448 bytes dispon¡veis\n"
     ]
    }
   ],
   "source": [
    "!dir "
   ]
  }
 ],
 "metadata": {
  "kernelspec": {
   "display_name": "Python 3",
   "language": "python",
   "name": "python3"
  },
  "language_info": {
   "codemirror_mode": {
    "name": "ipython",
    "version": 3
   },
   "file_extension": ".py",
   "mimetype": "text/x-python",
   "name": "python",
   "nbconvert_exporter": "python",
   "pygments_lexer": "ipython3",
   "version": "3.8.8"
  }
 },
 "nbformat": 4,
 "nbformat_minor": 5
}
