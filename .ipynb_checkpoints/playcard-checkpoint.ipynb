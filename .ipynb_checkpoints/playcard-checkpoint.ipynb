{
 "cells": [
  {
   "cell_type": "markdown",
   "id": "2902407d",
   "metadata": {},
   "source": [
    "# 0.0 Imports"
   ]
  },
  {
   "cell_type": "code",
   "execution_count": 33,
   "id": "11d4ad0b",
   "metadata": {},
   "outputs": [],
   "source": [
    "import pandas as pd\n",
    "import numpy as np\n",
    "import pickle\n",
    "\n",
    "from sklearn.model_selection import train_test_split\n",
    "from sklearn.linear_model import ElasticNet\n",
    "from sklearn.metrics import mean_squared_error, mean_absolute_error, r2_score"
   ]
  },
  {
   "cell_type": "markdown",
   "id": "7166d4d4",
   "metadata": {},
   "source": [
    "#0.1 Loading Data"
   ]
  },
  {
   "cell_type": "code",
   "execution_count": 18,
   "id": "867ce914",
   "metadata": {},
   "outputs": [],
   "source": [
    "csv_url = 'http://archive.ics.uci.edu/ml/machine-learning-databases/wine-quality/winequality-red.csv'\n",
    "df_raw = pd.read_csv(csv_url, sep=';')"
   ]
  },
  {
   "cell_type": "markdown",
   "id": "97089014",
   "metadata": {},
   "source": [
    "1.0 Data Preparation"
   ]
  },
  {
   "cell_type": "code",
   "execution_count": 22,
   "id": "51dd3ec9",
   "metadata": {},
   "outputs": [],
   "source": [
    "df1 = df_raw.copy()"
   ]
  },
  {
   "cell_type": "code",
   "execution_count": 25,
   "id": "51c220c0",
   "metadata": {},
   "outputs": [],
   "source": [
    "train, test = train_test_split(df1)"
   ]
  },
  {
   "cell_type": "code",
   "execution_count": 26,
   "id": "95213b2b",
   "metadata": {},
   "outputs": [],
   "source": [
    "x_train = train.drop('quality',axis=1) \n",
    "y_train = train['quality']\n",
    "\n",
    "x_test = test.drop('quality',axis=1) \n",
    "y_test = test['quality']"
   ]
  },
  {
   "cell_type": "markdown",
   "id": "519fa980",
   "metadata": {},
   "source": [
    "2.0. ML Modelling"
   ]
  },
  {
   "cell_type": "code",
   "execution_count": 28,
   "id": "5919dbff",
   "metadata": {},
   "outputs": [],
   "source": [
    "model = ElasticNet( alpha=0.5, l1_ratio=0.5, random_state=42 )"
   ]
  },
  {
   "cell_type": "code",
   "execution_count": 29,
   "id": "03f8c60a",
   "metadata": {},
   "outputs": [
    {
     "data": {
      "text/plain": [
       "ElasticNet(alpha=0.5, random_state=42)"
      ]
     },
     "execution_count": 29,
     "metadata": {},
     "output_type": "execute_result"
    }
   ],
   "source": [
    "model.fit(x_train,y_train)"
   ]
  },
  {
   "cell_type": "code",
   "execution_count": 30,
   "id": "121061f6",
   "metadata": {},
   "outputs": [],
   "source": [
    "pred = model.predict(x_test)"
   ]
  },
  {
   "cell_type": "code",
   "execution_count": 35,
   "id": "dd60f1f9",
   "metadata": {},
   "outputs": [],
   "source": [
    "rmse = np.sqrt(mean_squared_error(y_test,pred))\n",
    "mae = mean_absolute_error(y_test,pred)\n",
    "r2 = r2_score(y_test,pred)"
   ]
  },
  {
   "cell_type": "code",
   "execution_count": 37,
   "id": "a089d907",
   "metadata": {},
   "outputs": [
    {
     "name": "stdout",
     "output_type": "stream",
     "text": [
      "RMSE: {} 0.7253129324293365\n",
      "MAE: {} 0.5828652808964228\n",
      "R2: {} 0.11251511965038441\n"
     ]
    }
   ],
   "source": [
    "print('RMSE: {}', format(rmse))\n",
    "print('MAE: {}', format(mae))\n",
    "print('R2: {}', format(r2))"
   ]
  },
  {
   "cell_type": "code",
   "execution_count": 40,
   "id": "3388f76d",
   "metadata": {},
   "outputs": [],
   "source": [
    "pickle.dump(model, open('/Users/jknod/jknoda/playcards/deploy/playcardsapi.pkl', 'wb'))"
   ]
  },
  {
   "cell_type": "code",
   "execution_count": 41,
   "id": "f84100b0",
   "metadata": {},
   "outputs": [
    {
     "name": "stdout",
     "output_type": "stream",
     "text": [
      " O volume na unidade C ‚ Windows-SSD\n",
      " O N£mero de S‚rie do Volume ‚ 3CB0-A64D\n",
      "\n",
      " Pasta de C:\\Users\\jknod\\jknoda\\playcards\\deploy\n",
      "\n",
      "18/09/2021  13:41    <DIR>          .\n",
      "18/09/2021  13:41    <DIR>          ..\n",
      "18/09/2021  13:41               626 playcardsapi.pkl\n",
      "               1 arquivo(s)            626 bytes\n",
      "               2 pasta(s)   280.121.208.832 bytes dispon¡veis\n"
     ]
    }
   ],
   "source": [
    "!dir deploy"
   ]
  }
 ],
 "metadata": {
  "kernelspec": {
   "display_name": "Python 3",
   "language": "python",
   "name": "python3"
  },
  "language_info": {
   "codemirror_mode": {
    "name": "ipython",
    "version": 3
   },
   "file_extension": ".py",
   "mimetype": "text/x-python",
   "name": "python",
   "nbconvert_exporter": "python",
   "pygments_lexer": "ipython3",
   "version": "3.8.8"
  }
 },
 "nbformat": 4,
 "nbformat_minor": 5
}
