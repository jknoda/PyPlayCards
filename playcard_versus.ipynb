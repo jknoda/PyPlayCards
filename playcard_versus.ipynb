{
 "cells": [
  {
   "cell_type": "markdown",
   "id": "7afd8d64",
   "metadata": {},
   "source": [
    "# 0.0 Imports"
   ]
  },
  {
   "cell_type": "code",
   "execution_count": 59,
   "id": "09b2ecd8",
   "metadata": {},
   "outputs": [],
   "source": [
    "import pandas as pd\n",
    "import numpy as np\n",
    "import pickle\n",
    "import json, requests\n",
    "\n",
    "from sklearn.model_selection import train_test_split\n",
    "from sklearn.preprocessing import LabelEncoder\n",
    "from sklearn.metrics import confusion_matrix, accuracy_score\n",
    "from sklearn.tree import DecisionTreeClassifier\n",
    "from sklearn.tree import export_graphviz\n",
    "\n",
    "#from keras.models import Sequential\n",
    "#from keras.layers import Dense\n",
    "#from sklearn.preprocessing import LabelEncoder, OneHotEncoder\n",
    "#from sklearn.naive_bayes import GaussianNB\n",
    "#from sklearn.ensemble import RandomForestClassifier\n",
    "#from sklearn.preprocessing import StandardScaler"
   ]
  },
  {
   "cell_type": "markdown",
   "id": "9fe0461b",
   "metadata": {},
   "source": [
    "#0.1 Loading Data"
   ]
  },
  {
   "cell_type": "code",
   "execution_count": 60,
   "id": "49afc64e",
   "metadata": {},
   "outputs": [
    {
     "data": {
      "text/plain": [
       "(102, 15)"
      ]
     },
     "execution_count": 60,
     "metadata": {},
     "output_type": "execute_result"
    }
   ],
   "source": [
    "dados = {\"ano\": 2021}\n",
    "response = requests.post(\"https://playcardservice.herokuapp.com/oapi/playctrlstat/findallversus\", data=dados)\n",
    "#response.text\n",
    "jogos = pd.read_json(response.text)\n",
    "jogos.shape\n",
    "#jogos.head"
   ]
  },
  {
   "cell_type": "markdown",
   "id": "ca8aa3bc",
   "metadata": {},
   "source": [
    "1.0 Data Preparation"
   ]
  },
  {
   "cell_type": "code",
   "execution_count": 61,
   "id": "1fe90eca",
   "metadata": {},
   "outputs": [],
   "source": [
    "previsores = jogos.iloc[:,0:14].values\n",
    "classe = jogos.iloc[:,14].values"
   ]
  },
  {
   "cell_type": "code",
   "execution_count": 38,
   "id": "452375a3",
   "metadata": {},
   "outputs": [],
   "source": [
    "\n",
    "#DEEP LEARNING - Laber encoder com a classe\n",
    "#labelencoder_Y = LabelEncoder()\n",
    "#y = labelencoder_Y.fit_transform(classe)\n",
    "#separação em treino e teste\n",
    "#X_train, X_test, y_train, y_test = train_test_split(previsores, y, test_size = 0.4, random_state = 0)\n",
    "#print(len(X_train),len(X_test),len(y_train),len(y_test))\n",
    "#Feature Scalling, Padronização z-score\n",
    "# sc = StandardScaler()\n",
    "# X_train = sc.fit_transform(X_train)\n",
    "# X_test = sc.transform(X_test)\n",
    "# X_test\n",
    "# classifier = Sequential()\n",
    "# classifier.add(Dense(units = 6, kernel_initializer = 'uniform', activation = 'relu', input_dim = 14))\n",
    "# classifier.add(Dense(units = 6, kernel_initializer = 'uniform', activation = 'relu'))\n",
    "# classifier.add(Dense(units = 1, kernel_initializer = 'uniform', activation = 'sigmoid'))\n",
    "# classifier.compile(optimizer = 'adam', loss = 'binary_crossentropy', metrics = ['accuracy'])\n",
    "# classifier.fit(X_train, y_train, batch_size = 10, epochs = 200)\n",
    "# y_pred = classifier.predict(X_test)\n",
    "# y_pred = (y_pred > 0.5)\n",
    "# y_pred\n",
    "# cm = confusion_matrix(y_test, y_pred)\n",
    "# taxa_acerto = accuracy_score(y_test, y_pred)\n",
    "# taxa_acerto\n",
    "# sc = StandardScaler()\n",
    "# X_novo = sc.fit_transform(novo_credito)\n",
    "# X_novo = sc.transform(X_novo)\n",
    "# X_novo"
   ]
  },
  {
   "cell_type": "code",
   "execution_count": 85,
   "id": "05623776",
   "metadata": {},
   "outputs": [],
   "source": [
    "# Divisão da base de dados entre treinamento e teste. Usamos 40% para testar e 60% para treinar. Random_state = 0 para sempre obter a mesma divisão da base quando o código for executado\n",
    "X_treinamento, X_teste, y_treinamento, y_teste = train_test_split(previsores,\n",
    "                                                                  classe,\n",
    "                                                                  test_size = 0.15)"
   ]
  },
  {
   "cell_type": "code",
   "execution_count": 86,
   "id": "c6ae8d25",
   "metadata": {},
   "outputs": [
    {
     "data": {
      "text/plain": [
       "DecisionTreeClassifier()"
      ]
     },
     "execution_count": 86,
     "metadata": {},
     "output_type": "execute_result"
    }
   ],
   "source": [
    "# Criação e treinamento do modelo\n",
    "versus = DecisionTreeClassifier()\n",
    "#versus = GaussianNB()\n",
    "#versus = RandomForestClassifier(n_estimators = 100)\n",
    "versus.fit(X_treinamento, y_treinamento)"
   ]
  },
  {
   "cell_type": "markdown",
   "id": "14e26de8",
   "metadata": {},
   "source": [
    "2.0. ML Modelling"
   ]
  },
  {
   "cell_type": "code",
   "execution_count": 87,
   "id": "ab88aec0",
   "metadata": {},
   "outputs": [
    {
     "data": {
      "text/plain": [
       "array(['A', 'A', 'A', 'A', 'B', 'A', 'B', 'A', 'A', 'B', 'A', 'B', 'B',\n",
       "       'A', 'A', 'A'], dtype=object)"
      ]
     },
     "execution_count": 87,
     "metadata": {},
     "output_type": "execute_result"
    }
   ],
   "source": [
    "# Obtenção das previsões\n",
    "previsoes = versus.predict(X_teste)\n",
    "previsoes"
   ]
  },
  {
   "cell_type": "code",
   "execution_count": 88,
   "id": "c22a7cc0",
   "metadata": {},
   "outputs": [
    {
     "data": {
      "text/plain": [
       "array([[10,  1],\n",
       "       [ 1,  4]], dtype=int64)"
      ]
     },
     "execution_count": 88,
     "metadata": {},
     "output_type": "execute_result"
    }
   ],
   "source": [
    "#matriz de confusão\n",
    "confusao = confusion_matrix(y_teste, previsoes)\n",
    "confusao"
   ]
  },
  {
   "cell_type": "code",
   "execution_count": 89,
   "id": "11a879db",
   "metadata": {},
   "outputs": [
    {
     "data": {
      "text/plain": [
       "0.875"
      ]
     },
     "execution_count": 89,
     "metadata": {},
     "output_type": "execute_result"
    }
   ],
   "source": [
    "#taxa acerto\n",
    "taxa_acerto = accuracy_score(y_teste, previsoes)\n",
    "taxa_acerto"
   ]
  },
  {
   "cell_type": "code",
   "execution_count": 16,
   "id": "966dc067",
   "metadata": {},
   "outputs": [],
   "source": [
    "pickle.dump(versus, open('/Users/jknod/jknoda/playcards/playcardsversusapi.pkl', 'wb'))"
   ]
  },
  {
   "cell_type": "code",
   "execution_count": 62,
   "id": "e009a1b6",
   "metadata": {},
   "outputs": [
    {
     "name": "stdout",
     "output_type": "stream",
     "text": [
      " O volume na unidade C ‚ Windows-SSD\n",
      " O N£mero de S‚rie do Volume ‚ 3CB0-A64D\n",
      "\n",
      " Pasta de C:\\Users\\jknod\\jknoda\\playcards\n",
      "\n",
      "27/09/2021  18:05    <DIR>          .\n",
      "27/09/2021  18:05    <DIR>          ..\n",
      "18/09/2021  14:45                11 .gitignore\n",
      "27/09/2021  18:02    <DIR>          .ipynb_checkpoints\n",
      "27/09/2021  18:00             9.569 playcard.ipynb\n",
      "27/09/2021  18:00             1.790 playcardapi.py\n",
      "27/09/2021  18:04             1.883 playcardsapi.pkl\n",
      "27/09/2021  18:05             1.883 playcardsversusapi.pkl\n",
      "27/09/2021  18:02             7.607 playcard_predict.ipynb\n",
      "27/09/2021  18:04             9.680 playcard_versus.ipynb\n",
      "18/09/2021  15:18                28 Procfile\n",
      "24/09/2021  11:37               102 requirements.txt\n",
      "18/09/2021  14:53                12 runtim.txt\n",
      "              10 arquivo(s)         32.565 bytes\n",
      "               3 pasta(s)   276.051.763.200 bytes dispon¡veis\n"
     ]
    }
   ],
   "source": [
    "!dir "
   ]
  },
  {
   "cell_type": "code",
   "execution_count": 96,
   "id": "15df6a2d",
   "metadata": {},
   "outputs": [
    {
     "data": {
      "text/html": [
       "<div>\n",
       "<style scoped>\n",
       "    .dataframe tbody tr th:only-of-type {\n",
       "        vertical-align: middle;\n",
       "    }\n",
       "\n",
       "    .dataframe tbody tr th {\n",
       "        vertical-align: top;\n",
       "    }\n",
       "\n",
       "    .dataframe thead th {\n",
       "        text-align: right;\n",
       "    }\n",
       "</style>\n",
       "<table border=\"1\" class=\"dataframe\">\n",
       "  <thead>\n",
       "    <tr style=\"text-align: right;\">\n",
       "      <th></th>\n",
       "      <th>ala</th>\n",
       "      <th>asa</th>\n",
       "      <th>cla</th>\n",
       "      <th>csa</th>\n",
       "      <th>rla</th>\n",
       "      <th>rsa</th>\n",
       "      <th>jogadasa</th>\n",
       "      <th>alb</th>\n",
       "      <th>asb</th>\n",
       "      <th>clb</th>\n",
       "      <th>csb</th>\n",
       "      <th>rlb</th>\n",
       "      <th>rsb</th>\n",
       "      <th>jogadasb</th>\n",
       "    </tr>\n",
       "  </thead>\n",
       "  <tbody>\n",
       "    <tr>\n",
       "      <th>0</th>\n",
       "      <td>0.494936</td>\n",
       "      <td>0.500617</td>\n",
       "      <td>0.505815</td>\n",
       "      <td>0.498062</td>\n",
       "      <td>0.506384</td>\n",
       "      <td>0.498216</td>\n",
       "      <td>0.499763</td>\n",
       "      <td>0.505064</td>\n",
       "      <td>0.499383</td>\n",
       "      <td>0.494185</td>\n",
       "      <td>0.501938</td>\n",
       "      <td>0.493616</td>\n",
       "      <td>0.501784</td>\n",
       "      <td>0.500237</td>\n",
       "    </tr>\n",
       "  </tbody>\n",
       "</table>\n",
       "</div>"
      ],
      "text/plain": [
       "        ala       asa       cla       csa       rla       rsa  jogadasa  \\\n",
       "0  0.494936  0.500617  0.505815  0.498062  0.506384  0.498216  0.499763   \n",
       "\n",
       "        alb       asb       clb       csb       rlb       rsb  jogadasb  \n",
       "0  0.505064  0.499383  0.494185  0.501938  0.493616  0.501784  0.500237  "
      ]
     },
     "execution_count": 96,
     "metadata": {},
     "output_type": "execute_result"
    }
   ],
   "source": [
    "#DADOS PARA TESTAR MODELO\n",
    "dadosVer = {\"dupla01a\":50, \"dupla01b\":51, \"dupla02a\":54, \"dupla02b\":52}\n",
    "#dadosVer = {\"dupla01a\":55, \"dupla01b\":52, \"dupla02a\":51, \"dupla02b\":50}\n",
    "responseVer = requests.post(\"https://playcardservice.herokuapp.com/oapi/playctrlstat/findindversus\", data=dadosVer)\n",
    "#response.text\n",
    "verificar = pd.read_json(responseVer.text)\n",
    "verificar\n",
    "\n",
    "#resultado = versus.predict(verificar)\n",
    "#resultado"
   ]
  },
  {
   "cell_type": "code",
   "execution_count": 93,
   "id": "ab5650ef",
   "metadata": {},
   "outputs": [
    {
     "data": {
      "text/html": [
       "<div>\n",
       "<style scoped>\n",
       "    .dataframe tbody tr th:only-of-type {\n",
       "        vertical-align: middle;\n",
       "    }\n",
       "\n",
       "    .dataframe tbody tr th {\n",
       "        vertical-align: top;\n",
       "    }\n",
       "\n",
       "    .dataframe thead th {\n",
       "        text-align: right;\n",
       "    }\n",
       "</style>\n",
       "<table border=\"1\" class=\"dataframe\">\n",
       "  <thead>\n",
       "    <tr style=\"text-align: right;\">\n",
       "      <th></th>\n",
       "      <th>ala</th>\n",
       "      <th>asa</th>\n",
       "      <th>cla</th>\n",
       "      <th>csa</th>\n",
       "      <th>rla</th>\n",
       "      <th>rsa</th>\n",
       "      <th>jogadasa</th>\n",
       "      <th>alb</th>\n",
       "      <th>asb</th>\n",
       "      <th>clb</th>\n",
       "      <th>csb</th>\n",
       "      <th>rlb</th>\n",
       "      <th>rsb</th>\n",
       "      <th>jogadasb</th>\n",
       "    </tr>\n",
       "  </thead>\n",
       "  <tbody>\n",
       "    <tr>\n",
       "      <th>0</th>\n",
       "      <td>0.505064</td>\n",
       "      <td>0.499383</td>\n",
       "      <td>0.494185</td>\n",
       "      <td>0.501938</td>\n",
       "      <td>0.493616</td>\n",
       "      <td>0.501784</td>\n",
       "      <td>0.500237</td>\n",
       "      <td>0.494936</td>\n",
       "      <td>0.500617</td>\n",
       "      <td>0.505815</td>\n",
       "      <td>0.498062</td>\n",
       "      <td>0.506384</td>\n",
       "      <td>0.498216</td>\n",
       "      <td>0.499763</td>\n",
       "    </tr>\n",
       "  </tbody>\n",
       "</table>\n",
       "</div>"
      ],
      "text/plain": [
       "        ala       asa       cla       csa       rla       rsa  jogadasa  \\\n",
       "0  0.505064  0.499383  0.494185  0.501938  0.493616  0.501784  0.500237   \n",
       "\n",
       "        alb       asb       clb       csb       rlb       rsb  jogadasb  \n",
       "0  0.494936  0.500617  0.505815  0.498062  0.506384  0.498216  0.499763  "
      ]
     },
     "execution_count": 93,
     "metadata": {},
     "output_type": "execute_result"
    }
   ],
   "source": [
    "#DADOS PARA TESTAR MODELO\n",
    "dadosVer = {\"dupla01a\":54, \"dupla01b\":52, \"dupla02a\":50, \"dupla02b\":51}\n",
    "#dadosVer = {\"dupla01a\":55, \"dupla01b\":52, \"dupla02a\":51, \"dupla02b\":50}\n",
    "responseVer = requests.post(\"https://playcardservice.herokuapp.com/oapi/playctrlstat/findindversus\", data=dadosVer)\n",
    "#response.text\n",
    "verificar = pd.read_json(responseVer.text)\n",
    "verificar\n",
    "#resultado = versus.predict(verificar)\n",
    "#resultado"
   ]
  },
  {
   "cell_type": "code",
   "execution_count": 97,
   "id": "c6490922",
   "metadata": {},
   "outputs": [
    {
     "data": {
      "text/plain": [
       "array(['A'], dtype=object)"
      ]
     },
     "execution_count": 97,
     "metadata": {},
     "output_type": "execute_result"
    }
   ],
   "source": [
    "#USANDO MODELO\n",
    "resultado = versus.predict(verificar)\n",
    "resultado"
   ]
  }
 ],
 "metadata": {
  "interpreter": {
   "hash": "57baa5815c940fdaff4d14510622de9616cae602444507ba5d0b6727c008cbd6"
  },
  "kernelspec": {
   "display_name": "Python 3",
   "language": "python",
   "name": "python3"
  },
  "language_info": {
   "codemirror_mode": {
    "name": "ipython",
    "version": 3
   },
   "file_extension": ".py",
   "mimetype": "text/x-python",
   "name": "python",
   "nbconvert_exporter": "python",
   "pygments_lexer": "ipython3",
   "version": "3.8.8"
  }
 },
 "nbformat": 4,
 "nbformat_minor": 5
}
